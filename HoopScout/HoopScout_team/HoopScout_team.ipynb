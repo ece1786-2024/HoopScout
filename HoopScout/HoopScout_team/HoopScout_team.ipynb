{
 "cells": [
  {
   "cell_type": "markdown",
   "metadata": {},
   "source": [
    "# Data Processing"
   ]
  },
  {
   "cell_type": "code",
   "execution_count": null,
   "metadata": {},
   "outputs": [],
   "source": [
    "from Agents import data_agent, badge_agent, report_agent, pre_game_report_agent, team_report_agent\n",
    "from Evaluation import readibility_badges_check\n",
    "from openai import OpenAI\n",
    "\n",
    "client = OpenAI(api_key= \"\")\n",
    "\n",
    "team_pth = \"Data/Celtics/Team/\"\n",
    "team_roster_pth = team_pth + \"Roster.csv\"\n",
    "team_asb_pth = team_pth + \"Advanced_Score_Boxes.csv\"\n",
    "team_os_pth = team_pth + \"Overall_Shooting.csv\"\n",
    "team_grs_pth = team_pth + \"General_Range_Shooting.csv\"\n",
    "team_ds_pth = team_pth + \"Dribbles_Shooting.csv\"\n",
    "team_pt_pth = team_pth + \"Pass_To.csv\"\n",
    "team_pf_pth = team_pth + \"Pass_From.csv\"\n",
    "team_s_pth =  team_pth + \"Team_Stats.csv\"\n",
    "team_logo_pth = team_pth + \"Logo.jpg\"\n",
    "\n",
    "# Data Processing\n",
    "team_roster, team_asb, team_os, team_grs, team_ds, team_pt, team_pf, team_s = data_agent.team_data_processing(team_roster_pth, team_asb_pth, team_os_pth, team_grs_pth, team_ds_pth, team_pt_pth, team_pf_pth, team_s_pth)\n",
    "\n"
   ]
  },
  {
   "cell_type": "markdown",
   "metadata": {},
   "source": [
    "# Generate Team Report"
   ]
  },
  {
   "cell_type": "code",
   "execution_count": 2,
   "metadata": {},
   "outputs": [
    {
     "name": "stdout",
     "output_type": "stream",
     "text": [
      "```markdown\n",
      "<div style=\"text-align;\">\n",
      "  <span style=\"font-size: 32px; font-weight: bold;\">Pre-Game Scouting Report</span>\n",
      "</div>\n",
      "\n",
      "<div>\n",
      "  <span style=\"font-size: 32px; font-weight: bold;\">Boston Celtics</span><br>\n",
      "  <span style=\"font-size: 24px;\">Established NBA team renowned for defensive prowess and strong firepower from the perimeter.</span>\n",
      "</div>\n",
      "\n",
      "<div style=\"margin: 30px 0;\">\n",
      "  <table style=\"width: 100%; border-collapse: collapse; text-align: center;\">\n",
      "    <thead style=\"background-color\">\n",
      "      <tr>\n",
      "        <th style=\"padding: 10px; border: 1px solid #ddd;\">PPG</th>\n",
      "        <th style=\"padding: 10px; border: 1px solid #ddd;\">RPG</th>\n",
      "        <th style=\"padding: 10px; border: 1px solid #ddd;\">APG</th>\n",
      "        <th style=\"padding: 10px; border: 1px solid #ddd;\">SPG</th>\n",
      "        <th style=\"padding: 10px; border: 1px solid #ddd;\">BPG</th>\n",
      "        <th style=\"padding: 10px; border: 1px solid #ddd;\">FG%</th>\n",
      "        <th style=\"padding: 10px; border: 1px solid #ddd;\">3P%</th>\n",
      "        <th style=\"padding: 10px; border: 1px solid #ddd;\">FT%</th>\n",
      "      </tr>\n",
      "    </thead>\n",
      "    <tbody>\n",
      "      <tr>\n",
      "        <td style=\"padding: 10px; border: 1px solid #ddd;\">120.2</td>\n",
      "        <td style=\"padding: 10px; border: 1px solid #ddd;\">42.8</td>\n",
      "        <td style=\"padding: 10px; border: 1px solid #ddd;\">26.0</td>\n",
      "        <td style=\"padding: 10px; border: 1px solid #ddd;\">7.4</td>\n",
      "        <td style=\"padding: 10px; border: 1px solid #ddd;\">5.4</td>\n",
      "        <td style=\"padding: 10px; border: 1px solid #ddd;\">46.1</td>\n",
      "        <td style=\"padding: 10px; border: 1px solid #ddd;\">37.5</td>\n",
      "        <td style=\"padding: 10px; border: 1px solid #ddd;\">80.9</td>\n",
      "      </tr>\n",
      "    </tbody>\n",
      "  </table>\n",
      "</div>\n",
      "\n",
      "<h2>Overview:</h2>\n",
      "The Boston Celtics are on a winning streak, with a robust record of 15-3. They have bolstered their roster with seasoned players like Jayson Tatum and Jrue Holiday contributing significantly in scoring and defense, complemented by Jaylen Brown's efficiency on the wings. Recent games show a dominant performance in both offense and defense.\n",
      "<hr>\n",
      "\n",
      "<h2>Key Strengths:</h2>\n",
      "<ul>\n",
      "  <li>Outstanding three-point shooting and perimeter playmaking.</li>\n",
      "  <li>Strong defensive guard play, led by Jrue Holiday and Derrick White.</li>\n",
      "  <li>Consistent scoring from multiple players, leading to a high points-per-game average.</li>\n",
      "</ul>\n",
      "<hr>\n",
      "\n",
      "<h2>Key Weaknesses:</h2>\n",
      "<ul>\n",
      "  <li>Susceptibility to turnovers, averaging 11.7 per game.</li>\n",
      "  <li>Potential vulnerabilities in the paint against teams with dominant inside presence.</li>\n",
      "  <li>Dependence on perimeter shooting can lead to shooting slumps.</li>\n",
      "</ul>\n",
      "<hr>\n",
      "\n",
      "<h2>Offensive Strategy:</h2>\n",
      "<ul>\n",
      "  <li>Exploit their susceptibility to interior defense by attacking the paint aggressively.</li>\n",
      "  <li>Capitalize on transition opportunities to pressure their ball handlers into turnovers.</li>\n",
      "</ul>\n",
      "<hr>\n",
      "\n",
      "<h2>Defensive Strategy:</h2>\n",
      "<ul>\n",
      "  <li>Defend the three-point line aggressively to limit their effective long-range shooting.</li>\n",
      "  <li>Apply pressure to their primary ball handlers like Jayson Tatum and Jaylen Brown to increase turnover chances.</li>\n",
      "</ul>\n",
      "```\n"
     ]
    }
   ],
   "source": [
    "# Report Generation\n",
    "report_user_input = team_report_agent.create_report_input(team_roster, team_asb, team_os, team_grs, team_ds, team_pt, team_pf, team_s)\n",
    "report_result = team_report_agent.generate_report(client, report_user_input)\n",
    "print(report_result)"
   ]
  },
  {
   "cell_type": "markdown",
   "metadata": {},
   "source": [
    "# Pre-Game Scouting Report"
   ]
  },
  {
   "cell_type": "code",
   "execution_count": 3,
   "metadata": {},
   "outputs": [
    {
     "data": {
      "text/html": [
       "\n",
       "<div style=\"text-align;\">\n",
       "  <span style=\"font-size: 32px; font-weight: bold;\">Pre-Game Scouting Report</span>\n",
       "</div>\n",
       "\n",
       "<div>\n",
       "  <span style=\"font-size: 32px; font-weight: bold;\">Boston Celtics</span><br>\n",
       "  <span style=\"font-size: 24px;\">Established NBA team renowned for defensive prowess and strong firepower from the perimeter.</span>\n",
       "</div>\n",
       "\n",
       "<div style=\"margin: 30px 0;\">\n",
       "  <table style=\"width: 100%; border-collapse: collapse; text-align: center;\">\n",
       "    <thead style=\"background-color\">\n",
       "      <tr>\n",
       "        <th style=\"padding: 10px; border: 1px solid #ddd;\">PPG</th>\n",
       "        <th style=\"padding: 10px; border: 1px solid #ddd;\">RPG</th>\n",
       "        <th style=\"padding: 10px; border: 1px solid #ddd;\">APG</th>\n",
       "        <th style=\"padding: 10px; border: 1px solid #ddd;\">SPG</th>\n",
       "        <th style=\"padding: 10px; border: 1px solid #ddd;\">BPG</th>\n",
       "        <th style=\"padding: 10px; border: 1px solid #ddd;\">FG%</th>\n",
       "        <th style=\"padding: 10px; border: 1px solid #ddd;\">3P%</th>\n",
       "        <th style=\"padding: 10px; border: 1px solid #ddd;\">FT%</th>\n",
       "      </tr>\n",
       "    </thead>\n",
       "    <tbody>\n",
       "      <tr>\n",
       "        <td style=\"padding: 10px; border: 1px solid #ddd;\">120.2</td>\n",
       "        <td style=\"padding: 10px; border: 1px solid #ddd;\">42.8</td>\n",
       "        <td style=\"padding: 10px; border: 1px solid #ddd;\">26.0</td>\n",
       "        <td style=\"padding: 10px; border: 1px solid #ddd;\">7.4</td>\n",
       "        <td style=\"padding: 10px; border: 1px solid #ddd;\">5.4</td>\n",
       "        <td style=\"padding: 10px; border: 1px solid #ddd;\">46.1</td>\n",
       "        <td style=\"padding: 10px; border: 1px solid #ddd;\">37.5</td>\n",
       "        <td style=\"padding: 10px; border: 1px solid #ddd;\">80.9</td>\n",
       "      </tr>\n",
       "    </tbody>\n",
       "  </table>\n",
       "</div>\n",
       "\n",
       "<h2>Overview:</h2>\n",
       "The Boston Celtics are on a winning streak, with a robust record of 15-3. They have bolstered their roster with seasoned players like Jayson Tatum and Jrue Holiday contributing significantly in scoring and defense, complemented by Jaylen Brown's efficiency on the wings. Recent games show a dominant performance in both offense and defense.\n",
       "<hr>\n",
       "\n",
       "<h2>Key Strengths:</h2>\n",
       "<ul>\n",
       "  <li>Outstanding three-point shooting and perimeter playmaking.</li>\n",
       "  <li>Strong defensive guard play, led by Jrue Holiday and Derrick White.</li>\n",
       "  <li>Consistent scoring from multiple players, leading to a high points-per-game average.</li>\n",
       "</ul>\n",
       "<hr>\n",
       "\n",
       "<h2>Key Weaknesses:</h2>\n",
       "<ul>\n",
       "  <li>Susceptibility to turnovers, averaging 11.7 per game.</li>\n",
       "  <li>Potential vulnerabilities in the paint against teams with dominant inside presence.</li>\n",
       "  <li>Dependence on perimeter shooting can lead to shooting slumps.</li>\n",
       "</ul>\n",
       "<hr>\n",
       "\n",
       "<h2>Offensive Strategy:</h2>\n",
       "<ul>\n",
       "  <li>Exploit their susceptibility to interior defense by attacking the paint aggressively.</li>\n",
       "  <li>Capitalize on transition opportunities to pressure their ball handlers into turnovers.</li>\n",
       "</ul>\n",
       "<hr>\n",
       "\n",
       "<h2>Defensive Strategy:</h2>\n",
       "<ul>\n",
       "  <li>Defend the three-point line aggressively to limit their effective long-range shooting.</li>\n",
       "  <li>Apply pressure to their primary ball handlers like Jayson Tatum and Jaylen Brown to increase turnover chances.</li>\n",
       "</ul>\n"
      ],
      "text/plain": [
       "<IPython.core.display.HTML object>"
      ]
     },
     "execution_count": 3,
     "metadata": {},
     "output_type": "execute_result"
    }
   ],
   "source": [
    "from IPython.display import HTML\n",
    "\n",
    "# Cleaned HTML\n",
    "cleaned_html = report_result.replace(\"```markdown\", \"\").replace(\"```\", \"\")\n",
    "HTML(cleaned_html)"
   ]
  },
  {
   "cell_type": "code",
   "execution_count": 4,
   "metadata": {},
   "outputs": [
    {
     "name": "stdout",
     "output_type": "stream",
     "text": [
      "The flesch kincaid grade level is 10.4.\n"
     ]
    }
   ],
   "source": [
    "# Readibility Check\n",
    "readibility_user_input = readibility_badges_check.create_readibility_check_input(cleaned_html)\n",
    "print(f\"The flesch kincaid grade level is {readibility_badges_check.flesch_kincaid_grade_readibility_check(client, readibility_user_input)}.\")\n"
   ]
  }
 ],
 "metadata": {
  "kernelspec": {
   "display_name": "ece1786",
   "language": "python",
   "name": "python3"
  },
  "language_info": {
   "codemirror_mode": {
    "name": "ipython",
    "version": 3
   },
   "file_extension": ".py",
   "mimetype": "text/x-python",
   "name": "python",
   "nbconvert_exporter": "python",
   "pygments_lexer": "ipython3",
   "version": "3.10.13"
  }
 },
 "nbformat": 4,
 "nbformat_minor": 2
}
