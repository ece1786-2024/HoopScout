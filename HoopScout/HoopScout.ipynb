{
 "cells": [
  {
   "cell_type": "markdown",
   "metadata": {},
   "source": [
    "# Data Processing"
   ]
  },
  {
   "cell_type": "code",
   "execution_count": null,
   "metadata": {},
   "outputs": [],
   "source": [
    "from Agents import data_agent, badge_agent, report_agent, pre_game_report_agent, One_shot_analysis_agent, One_shot_pre_game_report_agent\n",
    "from Evaluation import readability_badges_check\n",
    "from openai import OpenAI\n",
    "\n",
    "client = OpenAI(api_key= \"\")\n",
    "player_pth = \"Data/Celtics/Jayson_Tatum/\"\n",
    "profile_pth = player_pth + \"Profile.json\"\n",
    "asb_pth = player_pth + \"Advanced_Box_Scores.csv\"\n",
    "os_pth = player_pth + \"Overall_Shooting.csv\"\n",
    "grs_pth = player_pth + \"General_Range_Shooting.csv\"\n",
    "ds_pth = player_pth + \"Dribbles_Shooting.csv\"\n",
    "pt_pth = player_pth + \"Pass_To.csv\"\n",
    "pf_pth = player_pth + \"Pass_From.csv\"\n",
    "d_pth =  player_pth + \"Tracking_Defense.csv\"\n",
    "Portrait_pth = player_pth + \"Portrait.jpg\"\n",
    "\n",
    "# Data Processing\n",
    "player_profile, abs, os, grs, ds, pt, pf, dt, avg = data_agent.data_processing(profile_pth, asb_pth, os_pth, grs_pth, ds_pth, pt_pth, pf_pth, d_pth)"
   ]
  },
  {
   "cell_type": "markdown",
   "metadata": {},
   "source": [
    "# Generate Player Badges"
   ]
  },
  {
   "cell_type": "code",
   "execution_count": 2,
   "metadata": {},
   "outputs": [
    {
     "name": "stdout",
     "output_type": "stream",
     "text": [
      "Defense Badge  \n",
      "Passing Badge  \n",
      "Rebounding Badge\n"
     ]
    }
   ],
   "source": [
    "# Badge Generation\n",
    "badge_user_input = badge_agent.create_badge_input(player_profile, abs, os, grs, ds, pt, pf, dt, avg)\n",
    "badge_result = badge_agent.generate_badge(client, badge_user_input)\n",
    "print(badge_result)"
   ]
  },
  {
   "cell_type": "code",
   "execution_count": 12,
   "metadata": {},
   "outputs": [
    {
     "data": {
      "text/plain": [
       "[]"
      ]
     },
     "execution_count": 12,
     "metadata": {},
     "output_type": "execute_result"
    }
   ],
   "source": [
    "# Badge Check\n",
    "readability_badges_check.badges_check(player_pth)"
   ]
  },
  {
   "cell_type": "markdown",
   "metadata": {},
   "source": [
    "# Generate Player Report"
   ]
  },
  {
   "cell_type": "code",
   "execution_count": 3,
   "metadata": {},
   "outputs": [
    {
     "name": "stdout",
     "output_type": "stream",
     "text": [
      "**Overview:**\n",
      "\n",
      "- **Profile:**\n",
      "  - Name: Jayson Tatum\n",
      "  - Number: 0\n",
      "  - Team: Boston Celtics\n",
      "  - Position: Forward / Guard\n",
      "  - Height: 6'8\" (2.03 meters)\n",
      "  - Weight: 210 pounds (95 kilograms)\n",
      "\n",
      "- **Average Stats:**\n",
      "  - Points Per Game (PPG): 28.39\n",
      "  - Rebounds Per Game (RPG): 8.22\n",
      "  - Assists Per Game (APG): 5.83\n",
      "  - Steals Per Game (SPG): 1.39\n",
      "  - Blocks Per Game (BPG): 0.56\n",
      "  - Field Goal Percentage (FG%): 45.18%\n",
      "  - Three-Point Percentage (3P%): 37.66%\n",
      "  - Free Throw Percentage (FT%): 78.59%\n",
      "\n",
      "- **Recent Performance Trends:**\n",
      "  - Jayson Tatum demonstrates strong scoring abilities, evident from multiple high-scoring games, including performances over 30 points. His recent FG% has varied, reflecting an element of inconsistency. The Celtics' reliance on him is significant as he accumulates consistent high usage minutes, and he has delivered substantial contributions on both rebounds and assists.\n",
      "\n",
      "- **Role in the Team:**\n",
      "  - Tatum serves as a pivotal piece in the Celtics' game strategy, primarily used for scoring and playmaking. His versatility allows him to function both as a wing and a forward, enabling him to exploit mismatches across various positions.\n",
      "\n",
      "\n",
      "## **Strengths**\n",
      "\n",
      "### **Scoring Versatility**\n",
      "- Tatum's shooting efficiency is strengthened by his capability to score from different ranges. He shoots 45.1% FG with a respectable eFG% of 55.2%, indicating productivity beyond raw field goals.\n",
      "- He has a strong three-point presence, shooting 37.3% on 10.7 attempts per game, which requires defenses to respect his range and contributes to his effective floor-spacing ability.\n",
      "\n",
      "### **Rebounding**\n",
      "- Averages 8.22 rebounds per game, showcasing his ability to aid the Celtics in controlling the glass, especially defensively with frequent double-digit performances.\n",
      "\n",
      "### **Playmaking**\n",
      "- Tatum averages 5.83 assists per game, underscoring his capability to facilitate the game, especially critical when the Celtics employ him as a ball-dominant forward.\n",
      "- Often utilized in pick-and-roll situations where he effectively dishes to teammates, supported by numbers showing efficient distribution to teammates like Derrick White and Jaylen Brown.\n",
      "\n",
      "### **Defense**\n",
      "- Tatum maintains a Defensive Field Goal Percentage (DFG%) of 44.1%, slightly better than his opponents' overall shots, evidencing his defensive impact.\n",
      "- His versatility allows him to defend multiple positions and adapt to different offensive threats.\n",
      "\n",
      "## **Weaknesses**\n",
      "\n",
      "### **Shooting Consistency**\n",
      "- His FG% fluctuates, demonstrating inconsistency particularly noticeable in recent games where he has shot below 40% multiple times.\n",
      "- Although his three-point percentage is fairly solid at 37.3%, there are games with significant slumps (e.g., 0% shooting from deep against Washington).\n",
      "\n",
      "### **Turnovers**\n",
      "- Tatum averages 3.1 turnovers per game, indicating vulnerability under defensive pressure, particularly when facing traps or aggressive ball handlers.\n",
      "\n",
      "### **Free Throw Efficiency**\n",
      "- Free throw shooting stands at 78.59%, leaving room for improvement especially for a superstar who frequently draws fouls.\n",
      "\n",
      "## **Defensive Strategy (How to Guard Jayson Tatum)**\n",
      "\n",
      "### **Limit Three-Point Attempts**\n",
      "- Make a concerted effort to close out on Tatum’s three-point attempts to reduce shooting efficiency. Forcing him into more contested, mid-range shots could disrupt his scoring rhythm.\n",
      "\n",
      "### **Pressure in Transition and Post**\n",
      "- Employ defensive schemes that apply pressure during transition plays and demand defensive help in post-ups to compel him into error-prone ball-handling situations.\n",
      "\n",
      "### **Trap and Double in the Paint**\n",
      "- Maximizing the impact of his turnover susceptibility by doubling during drives and at the critical post-up moments.\n",
      "\n",
      "### **Crowd the Passing Lanes**\n",
      "- Focus on disrupting his connections with key pass receivers like Derrick White (frequent from stats) to impair his playmaking rhythm.\n",
      "\n",
      "## **Offensive Strategy (How to Attack Jayson Tatum)**\n",
      "\n",
      "### **Force Defensive Engagement**\n",
      "- Use picks and movement to draw him into defensive actions that can reduce his energy for offensive tasks, particularly effective through screens or off-ball movements.\n",
      "\n",
      "### **Attack Dribble and Lateral Defense**\n",
      "- Engage him with quick guards known for rapid ball movement, possibly exposing weaknesses in his lateral defensive agility and driving lanes to exploit.\n",
      "\n",
      "### **Utilize Off-the-Ball Movement**\n",
      "- Keep continuous motion and ball movement to disrupt his defensive positioning, aimed especially at creating mismatches against more agile or physical opponents.\n",
      "\n",
      "## **Summary**\n",
      "\n",
      "Jayson Tatum is a dynamic and versatile scorer capable of impacting the game in multiple facets. Containing him requires a strategic focus on limiting his high-percentage shooting opportunities, particularly from beyond the arc, and exploiting his turnover tendencies. Conversely, on offense, dynamics like engaging him in defensive actions and utilizing swift ball movement can help neutralize his on-court influence.\n"
     ]
    }
   ],
   "source": [
    "# Report Generation\n",
    "report_user_input = One_shot_analysis_agent.create_report_input(player_profile, abs, os, grs, ds, pt, pf, dt, avg)\n",
    "report_result = One_shot_analysis_agent.generate_report(client, report_user_input)\n",
    "print(report_result)"
   ]
  },
  {
   "cell_type": "markdown",
   "metadata": {},
   "source": [
    "# Generate Player Pre-Game Markdown-Format Text"
   ]
  },
  {
   "cell_type": "code",
   "execution_count": 4,
   "metadata": {},
   "outputs": [],
   "source": [
    "pre_game_report_user_input = One_shot_pre_game_report_agent.create_pre_game_report_input(report_result,  badge_result)\n",
    "pre_game_report_result = One_shot_pre_game_report_agent.generate_pre_game_report(client, pre_game_report_user_input)"
   ]
  },
  {
   "cell_type": "markdown",
   "metadata": {},
   "source": [
    "# Pre-Game Scouting Report"
   ]
  },
  {
   "cell_type": "code",
   "execution_count": 5,
   "metadata": {},
   "outputs": [
    {
     "data": {
      "text/html": [
       "\n",
       "<div style=\"margin: 20px 0; display: flex; justify-content: center; gap: 10px;\">\n",
       "  <img src=\"https://upload.wikimedia.org/wikipedia/commons/6/66/Defense.png\" alt=\"Defense Badge\" width=\"92\" height=\"104\" style=\"margin: 0 5px;\">\n",
       "  <img src=\"https://upload.wikimedia.org/wikipedia/commons/7/74/Dimer.png\" alt=\"Passing Badge\" width=\"92\" height=\"104\" style=\"margin: 0 5px;\">\n",
       "  <img src=\"https://upload.wikimedia.org/wikipedia/commons/d/d0/Rebound.png\" alt=\"Rebounding Badge\" width=\"92\" height=\"104\" style=\"margin: 0 5px;\">\n",
       "</div>\n",
       "\n",
       "<div style=\"text-align;\">\n",
       "  <span style=\"font-size: 32px; font-weight: bold;\">Pre-Game Scouting Report</span>\n",
       "</div>\n",
       "\n",
       "<div>\n",
       "  <span style=\"font-size: 32px; font-weight: bold;\">Jayson Tatum</span><br>\n",
       "  <span style=\"font-size: 24px;\">Boston Celtics | #0 | Forward/Guard | 6'8\" | 210 lb</span>\n",
       "</div>\n",
       "\n",
       "<div style=\"margin: 30px 0;\">\n",
       "  <table style=\"width: 100%; border-collapse: collapse; text-align: center;\">\n",
       "    <thead style=\"background-color\">\n",
       "      <tr>\n",
       "        <th style=\"padding: 10px; border: 1px solid #ddd;\">PPG</th>\n",
       "        <th style=\"padding: 10px; border: 1px solid #ddd;\">RPG</th>\n",
       "        <th style=\"padding: 10px; border: 1px solid #ddd;\">APG</th>\n",
       "        <th style=\"padding: 10px; border: 1px solid #ddd;\">SPG</th>\n",
       "        <th style=\"padding: 10px; border: 1px solid #ddd;\">BPG</th>\n",
       "        <th style=\"padding: 10px; border: 1px solid #ddd;\">FG%</th>\n",
       "        <th style=\"padding: 10px; border: 1px solid #ddd;\">3P%</th>\n",
       "        <th style=\"padding: 10px; border: 1px solid #ddd;\">FT%</th>\n",
       "      </tr>\n",
       "    </thead>\n",
       "    <tbody>\n",
       "      <tr>\n",
       "        <td style=\"padding: 10px; border: 1px solid #ddd;\">28.39</td>\n",
       "        <td style=\"padding: 10px; border: 1px solid #ddd;\">8.22</td>\n",
       "        <td style=\"padding: 10px; border: 1px solid #ddd;\">5.83</td>\n",
       "        <td style=\"padding: 10px; border: 1px solid #ddd;\">1.39</td>\n",
       "        <td style=\"padding: 10px; border: 1px solid #ddd;\">0.56</td>\n",
       "        <td style=\"padding: 10px; border: 1px solid #ddd;\">45.18%</td>\n",
       "        <td style=\"padding: 10px; border: 1px solid #ddd;\">37.66%</td>\n",
       "        <td style=\"padding: 10px; border: 1px solid #ddd;\">78.59%</td>\n",
       "      </tr>\n",
       "    </tbody>\n",
       "  </table>\n",
       "</div>\n",
       "\n",
       "<h2>Overview:</h2>\n",
       "Tatum is a core player for the Celtics, equally proficient in scoring and playmaking. He can deliver high points and solid rebounds, but shows inconsistency in field goal completion. With regular high usage, he is pivotal in giving the Celtics versatility on both ends of the court.\n",
       "<hr>\n",
       "\n",
       "<h2>Key Strengths:</h2>\n",
       "<ul>\n",
       "  <li><b>Scoring Versatility:</b> Capable from multiple ranges with a <b>45.1% FG</b>, posing a serious threat from beyond the arc at <b>37.66% 3P%</b>.</li>\n",
       "  <li><b>Rebounding:</b> Commands the glass with <b>8.22 rebounds per game</b>, consistently helping defensive boards.</li>\n",
       "  <li><b>Playmaking:</b> Effective at creating plays, with <b>5.83 assists per game</b>, adept in pick-and-roll scenarios.</li>\n",
       "</ul>\n",
       "<hr>\n",
       "\n",
       "<h2>Key Weaknesses:</h2>\n",
       "<ul>\n",
       "  <li><b>Shooting Consistency:</b> Exhibits performance dips, as evident by shooting under 40% in several games.</li>\n",
       "  <li><b>Turnover Prone:</b> Averages <b>3.1 turnovers per game</b>, vulnerable to traps and pressure.</li>\n",
       "  <li><b>Free Throw Efficiency:</b> Notably <b>78.59% FT%</b>, which is exploitable in high-pressure situations.</li>\n",
       "</ul>\n",
       "<hr>\n",
       "\n",
       "<h2>Offensive Strategy:</h2>\n",
       "<ul>\n",
       "  <li><b>Force Defensive Engagement:</b> Tire him by placing him in high-motion defensive roles, reducing offensive energy.</li>\n",
       "  <li><b>Attack Dribble and Lateral Defense:</b> Use pacey guards to challenge his lateral reactions to drive lanes.</li>\n",
       "</ul>\n",
       "<hr>\n",
       "\n",
       "<h2>Defensive Strategy:</h2>\n",
       "<ul>\n",
       "  <li><b>Limit Three-Point Attempts:</b> Close out aggressively to curb his three-point shooting effectiveness.</li>\n",
       "  <li><b>Exploit Turnover Susceptibility:</b> Apply pressure, particularly during transition plays, to induce errors.</li>\n",
       "</ul>\n"
      ],
      "text/plain": [
       "<IPython.core.display.HTML object>"
      ]
     },
     "execution_count": 5,
     "metadata": {},
     "output_type": "execute_result"
    }
   ],
   "source": [
    "from IPython.display import HTML\n",
    "\n",
    "# Cleaned HTML\n",
    "cleaned_html = pre_game_report_result.replace(\"```markdown\", \"\").replace(\"```\", \"\")\n",
    "HTML(cleaned_html)"
   ]
  },
  {
   "cell_type": "code",
   "execution_count": 6,
   "metadata": {},
   "outputs": [
    {
     "name": "stdout",
     "output_type": "stream",
     "text": [
      "The flesch kincaid grade level is 10.2.\n"
     ]
    }
   ],
   "source": [
    "# Readability Check\n",
    "readability_user_input = readability_badges_check.create_readability_check_input(cleaned_html)\n",
    "print(f\"The flesch kincaid grade level is {readability_badges_check.flesch_kincaid_grade_readability_check(client, readability_user_input)}.\")\n"
   ]
  }
 ],
 "metadata": {
  "kernelspec": {
   "display_name": "ECE1786",
   "language": "python",
   "name": "python3"
  },
  "language_info": {
   "codemirror_mode": {
    "name": "ipython",
    "version": 3
   },
   "file_extension": ".py",
   "mimetype": "text/x-python",
   "name": "python",
   "nbconvert_exporter": "python",
   "pygments_lexer": "ipython3",
   "version": "3.10.14"
  }
 },
 "nbformat": 4,
 "nbformat_minor": 2
}
