{
 "cells": [
  {
   "cell_type": "markdown",
   "metadata": {},
   "source": [
    "# Data Processing"
   ]
  },
  {
   "cell_type": "code",
   "execution_count": null,
   "metadata": {},
   "outputs": [],
   "source": [
    "from Agents import data_agent, badge_agent, report_agent, pre_game_report_agent\n",
    "from openai import OpenAI\n",
    "\n",
    "client = OpenAI(api_key= \"\")\n",
    "player_pth = \"Data/Lakers/Anthony_Davis/\"\n",
    "profile_pth = player_pth + \"Profile.json\"\n",
    "asb_pth = player_pth + \"Advanced_Score_Boxes.csv\"\n",
    "os_pth = player_pth + \"Overall_Shooting.csv\"\n",
    "grs_pth = player_pth + \"General_Range_Shooting.csv\"\n",
    "ds_pth = player_pth + \"Dribbles_Shooting.csv\"\n",
    "pt_pth = player_pth + \"Pass_To.csv\"\n",
    "pf_pth = player_pth + \"Pass_From.csv\"\n",
    "d_pth =  player_pth + \"Tracking_Defense.csv\"\n",
    "Portrait_pth = player_pth + \"Portrait.jpg\"\n",
    "\n",
    "# Data Processing\n",
    "player_profile, stats_1, stats_2, stats_3, stats_4, stats_5, stats_6, stats_7, stats_8 = data_agent.data_processing(profile_pth, asb_pth, os_pth, grs_pth, ds_pth, pt_pth, pf_pth, d_pth)"
   ]
  },
  {
   "cell_type": "markdown",
   "metadata": {},
   "source": [
    "# Generate Player Badges"
   ]
  },
  {
   "cell_type": "code",
   "execution_count": 4,
   "metadata": {},
   "outputs": [
    {
     "name": "stdout",
     "output_type": "stream",
     "text": [
      "Defense Badge  \n",
      "Inside Scorer Badge  \n",
      "Rebounding Badge\n"
     ]
    }
   ],
   "source": [
    "# Badge Generation\n",
    "badge_user_input = badge_agent.create_badge_input(player_profile, stats_1, stats_2, stats_3, stats_4, stats_5, stats_6, stats_7, stats_8)\n",
    "badge_result = badge_agent.generate_badge(client, badge_user_input)\n",
    "print(badge_result)"
   ]
  },
  {
   "cell_type": "markdown",
   "metadata": {},
   "source": [
    "# Generate Player Report"
   ]
  },
  {
   "cell_type": "code",
   "execution_count": 5,
   "metadata": {},
   "outputs": [
    {
     "name": "stdout",
     "output_type": "stream",
     "text": [
      "**Pre-Game Scouting Report on Anthony Davis**\n",
      "\n",
      "**Overview:**\n",
      "Anthony Davis, wearing the number 3 jersey, is a key player for the Los Angeles Lakers, primarily occupying the Power Forward and Center positions. Standing at 6 feet 10 inches and weighing 253 pounds, Davis brings both physical presence and versatility to the court. Over the last few games, Davis has averaged 30.13 points per game (PPG), 11.13 rebounds per game (RPG), and 2.8 assists per game (APG). Defensively, he provides 1.33 steals per game (SPG) and 1.93 blocks per game (BPG), while shooting at an impressive 56.55% from the field, 34.45% from three-point range, and 77.08% from the free-throw line.\n",
      "\n",
      "Recent performance trends indicate that Davis is currently on an offensive hot streak, especially evidenced by his dominant scoring performances of 40 points against the San Antonio Spurs and 36 points against the Minnesota Timberwolves. His role in the team is that of a primary scorer and an influential defender, often being the catalyst on both ends of the floor.\n",
      "\n",
      "**Strengths:**\n",
      "\n",
      "1. **Shooting Efficiency:**\n",
      "   - Davis boasts a strong field goal percentage of 56.55%, showing notable efficiency in scoring. He excels particularly well around the basket, shooting 64.9% less than 10 feet from the hoop. His ability to finish effectively demonstrates his proficiency in the paint.\n",
      "\n",
      "2. **Versatility and Range:**\n",
      "   - While primarily strong in the paint, Davis can also score from beyond the arc, albeit less frequently, with a respectable 34.45% from three-point range. His catch-and-shoot statistics are solid, with an eFG% of 58.5%, highlighting his adaptability and threat as a shooter.\n",
      "\n",
      "3. **Rebounding Prowess:**\n",
      "   - Davis's average of 11.13 rebounds per game spotlights his dominance on the boards. His ability to secure rebounds on both ends is vital to his team's control of the game.\n",
      "\n",
      "4. **Defensive Impact:**\n",
      "   - He plays a significant defensive role, as indicated by a -2.9 DIFF%, showing his ability to reduce opponents' shooting efficiency. Davis's 1.93 blocks per game further underscore his defensive capabilities, especially close to the basket where he defends exceptionally well against shots less than 6 feet.\n",
      "\n",
      "5. **Passing and Playmaking:**\n",
      "   - With 2.8 assists per game, Davis also contributes as a secondary playmaker, facilitating ball movement effectively when required.\n",
      "\n",
      "**Weaknesses:**\n",
      "\n",
      "1. **Perimeter Shooting:**\n",
      "   - While a competent shooter, Davis's reliance is primarily on two-point field goals, with a slightly less frequent and inconsistent three-point shooting. Overall, he attempts only about 2.1 three-pointers per game.\n",
      "\n",
      "2. **Frequent Turnovers:**\n",
      "   - Over the past few games, Davis averages around 2.6 turnovers per game, indicating areas where decision-making or ball-handling could be improved.\n",
      "\n",
      "3. **High FGA, Variability in FG%:**\n",
      "   - Davis has games with field goal percentages as low as 31.6% to 37.5%, showing some inconsistency when faced with more defensive pressure.\n",
      "\n",
      "4. **Foul Management:**\n",
      "   - While not excessive, there have been games with higher personal foul numbers, which could affect his impact late in games.\n",
      "\n",
      "**Offensive Strategies Against Him:**\n",
      "\n",
      "1. **Attack the Perimeter:**\n",
      "   - Encourage perimeter shooting when Davis is defending away from the basket, as he shows a greater defensive efficiency in close proximity to the basket through his blocks and contested shot percentages.\n",
      "\n",
      "2. **Utilize Speed and Movement:**\n",
      "   - Quick ball movement and fast-paced play can utilize his occasional lack of agility in staying outside for long defensive possessions, potentially tiring him.\n",
      "\n",
      "3. **Force Defensive Switches:**\n",
      "   - Run offensive sets that involve pick-and-rolls, forcing switches and mismatches with quicker guards driving past him.\n",
      "\n",
      "**Defensive Strategies Against Him:**\n",
      "\n",
      "1. **Crowd the Paint:**\n",
      "   - Double-team Davis in the post, especially when close to the basket to force turnovers or taking difficult shots at a lower percentage.\n",
      "\n",
      "2. **Restrict Comfortable Zones:**\n",
      "   - Encourage Davis to take more shots from mid-range rather than close to the basket where he is most efficient.\n",
      "\n",
      "3. **Limit Offensive Rebounds:**\n",
      "   - Box him out aggressively to curb second-chance points which he may create through offensive rebounds.\n",
      "\n",
      "4. **Awareness of Connections:**\n",
      "   - Be cognizant of Davis's synergy with LeBron James, who provides the most effective passing contributing to Davis's scoring.\n",
      "\n",
      "By focusing defensively on these areas and exploiting the discussed weaknesses, your team stands a greater chance in suppressing Anthony Davis's impact on the game.\n"
     ]
    }
   ],
   "source": [
    "# Report Generation\n",
    "report_user_input = report_agent.create_report_input(player_profile, stats_1, stats_2, stats_3, stats_4, stats_5, stats_6, stats_7, stats_8)\n",
    "report_result = report_agent.generate_report(client, report_user_input)\n",
    "print(report_result)"
   ]
  },
  {
   "cell_type": "markdown",
   "metadata": {},
   "source": [
    "# Generate Player Pre-Game Markdown-Format Text"
   ]
  },
  {
   "cell_type": "code",
   "execution_count": 6,
   "metadata": {},
   "outputs": [],
   "source": [
    "pre_game_report_user_input = pre_game_report_agent.create_pre_game_report_input(report_result,  badge_result, Portrait_pth)\n",
    "pre_game_report_result = pre_game_report_agent.generate_pre_game_report(client, pre_game_report_user_input)"
   ]
  },
  {
   "cell_type": "markdown",
   "metadata": {},
   "source": [
    "# Pre-Game Scouting Report"
   ]
  },
  {
   "cell_type": "code",
   "execution_count": 7,
   "metadata": {},
   "outputs": [
    {
     "data": {
      "text/html": [
       "\n",
       "<div style=\"text-align:center;\">\n",
       "  <span style=\"font-size: 32px; font-weight: bold;\">Pre-Game Scouting Report</span>\n",
       "</div>\n",
       "\n",
       "<div style=\"margin: 20px 0;\">\n",
       "<img src=\"Data/Lakers/Anthony_Davis/Portrait.jpg\" alt=\"Portrait\" width=\"520\" height=\"380\" style=\"border: 1px solid #ddd; border-radius: 5px; padding: 5px;\">\n",
       "</div>\n",
       "\n",
       "<div style=\"margin: 20px 0;\">\n",
       "  <img src=\"https://upload.wikimedia.org/wikipedia/commons/6/66/Defense.png\" alt=\"Defense Badge\" width=\"92\" height=\"104\" style=\"margin: 0 5px;\">\n",
       "  <img src=\"https://upload.wikimedia.org/wikipedia/commons/9/9f/Finisher.png\" alt=\"Inside Scorer Badge\" width=\"92\" height=\"104\" style=\"margin: 0 5px;\">\n",
       "  <img src=\"https://upload.wikimedia.org/wikipedia/commons/d/d0/Rebound.png\" alt=\"Rebounding Badge\" width=\"92\" height=\"104\" style=\"margin: 0 5px;\">\n",
       "</div>\n",
       "\n",
       "<div>\n",
       "  <span style=\"font-size: 32px; font-weight: bold;\">Anthony Davis</span><br>\n",
       "  <span style=\"font-size: 24px;\">Los Angeles Lakers | #3 | Power Forward/Center</span>\n",
       "</div>\n",
       "\n",
       "<div style=\"margin: 30px 0;\">\n",
       "  <table style=\"width: 100%; border-collapse: collapse; text-align: center;\">\n",
       "    <thead style=\"background-color: #eee;\">\n",
       "      <tr>\n",
       "        <th style=\"padding: 10px; border: 1px solid #ddd;\">PPG</th>\n",
       "        <th style=\"padding: 10px; border: 1px solid #ddd;\">RPG</th>\n",
       "        <th style=\"padding: 10px; border: 1px solid #ddd;\">APG</th>\n",
       "        <th style=\"padding: 10px; border: 1px solid #ddd;\">SPG</th>\n",
       "        <th style=\"padding: 10px; border: 1px solid #ddd;\">BPG</th>\n",
       "        <th style=\"padding: 10px; border: 1px solid #ddd;\">FG%</th>\n",
       "        <th style=\"padding: 10px; border: 1px solid #ddd;\">3P%</th>\n",
       "        <th style=\"padding: 10px; border: 1px solid #ddd;\">FT%</th>\n",
       "      </tr>\n",
       "    </thead>\n",
       "    <tbody>\n",
       "      <tr>\n",
       "        <td style=\"padding: 10px; border: 1px solid #ddd;\">30.13</td>\n",
       "        <td style=\"padding: 10px; border: 1px solid #ddd;\">11.13</td>\n",
       "        <td style=\"padding: 10px; border: 1px solid #ddd;\">2.8</td>\n",
       "        <td style=\"padding: 10px; border: 1px solid #ddd;\">1.33</td>\n",
       "        <td style=\"padding: 10px; border: 1px solid #ddd;\">1.93</td>\n",
       "        <td style=\"padding: 10px; border: 1px solid #ddd;\">56.55%</td>\n",
       "        <td style=\"padding: 10px; border: 1px solid #ddd;\">34.45%</td>\n",
       "        <td style=\"padding: 10px; border: 1px solid #ddd;\">77.08%</td>\n",
       "      </tr>\n",
       "    </tbody>\n",
       "  </table>\n",
       "</div>\n",
       "\n",
       "<h2>Overview:</h2>\n",
       "Anthony Davis is a dominant force for the Los Angeles Lakers, known for his scoring and defensive capabilities. Recently, he's been on an offensive surge, leading with high points against key teams. As both a primary scorer and significant defender, Davis's role is crucial on both ends.\n",
       "\n",
       "<hr>\n",
       "\n",
       "<h2>Key Strengths:</h2>\n",
       "<ul>\n",
       "  <li>Highly efficient around the basket, with a 56.55% FG%.</li>\n",
       "  <li>Strong rebounding ability, averaging 11.13 RPG.</li>\n",
       "  <li>Imposing defensive presence, particularly in blocking shots.</li>\n",
       "</ul>\n",
       "<hr>\n",
       "\n",
       "<h2>Key Weaknesses:</h2>\n",
       "<ul>\n",
       "  <li>Limited consistency in three-point shooting.</li>\n",
       "  <li>Prone to turnovers with 2.6 per game.</li>\n",
       "  <li>Occasional variability in shooting efficiency under pressure.</li>\n",
       "</ul>\n",
       "<hr>\n",
       "\n",
       "<h2>Offensive Strategy:</h2>\n",
       "<ul>\n",
       "  <li>Focus on perimeter shooting as Davis excels defending near the basket.</li>\n",
       "  <li>Utilize quick ball movement to exploit his defensive positioning.</li>\n",
       "</ul>\n",
       "<hr>\n",
       "\n",
       "<h2>Defensive Strategy:</h2>\n",
       "<ul>\n",
       "  <li>Double-team in the post to challenge lower percentage shots.</li>\n",
       "  <li>Box out and limit his second-chance points from rebounds.</li>\n",
       "</ul>\n"
      ],
      "text/plain": [
       "<IPython.core.display.HTML object>"
      ]
     },
     "execution_count": 7,
     "metadata": {},
     "output_type": "execute_result"
    }
   ],
   "source": [
    "from IPython.display import HTML\n",
    "\n",
    "# Cleaned HTML\n",
    "cleaned_html = pre_game_report_result.replace(\"```markdown\", \"\").replace(\"```\", \"\")\n",
    "HTML(cleaned_html)"
   ]
  }
 ],
 "metadata": {
  "kernelspec": {
   "display_name": "ece1786",
   "language": "python",
   "name": "python3"
  },
  "language_info": {
   "codemirror_mode": {
    "name": "ipython",
    "version": 3
   },
   "file_extension": ".py",
   "mimetype": "text/x-python",
   "name": "python",
   "nbconvert_exporter": "python",
   "pygments_lexer": "ipython3",
   "version": "3.10.14"
  }
 },
 "nbformat": 4,
 "nbformat_minor": 2
}
