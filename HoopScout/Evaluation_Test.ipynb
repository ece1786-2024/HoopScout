{
 "cells": [
  {
   "cell_type": "code",
   "execution_count": 7,
   "metadata": {},
   "outputs": [],
   "source": [
    "text = ''' \n",
    "Overview:\n",
    "Anthony Davis is a dominant force for the Los Angeles Lakers, known for his scoring and defensive capabilities. Recently, he's been on an offensive surge,\n",
    "leading with high points against key teams. As both a primary scorer and significant defender, Davis's role is crucial on both ends.\n",
    "\n",
    "Key Strengths:\n",
    "Highly efficient scorer with 56.55% FG%, particularly potent within 10 feet.\n",
    "Strong rebounding presence, averaging 11.13 RPG.\n",
    "Exceptional defensive anchor, averaging 1.93 BPG, and imposing presence in paint.\n",
    "\n",
    "Key Weaknesses:\n",
    "Not a major 3-point threat, with 34.45% from beyond the arc.\n",
    "Inconsistencies at FT line could affect late-game scenarios.\n",
    "Vulnerable when pressured into creating off the dribble.\n",
    "\n",
    "Offensive Strategy:\n",
    "Focus on perimeter shooting as Davis excels defending near the basket.\n",
    "Utilize quick ball movement to exploit his defensive positioning.\n",
    "\n",
    "Defensive Strategy:\n",
    "Shut down inside scoring by applying pressure near the basket.\n",
    "Close out aggressively on mid-range attempts to force poor shot selection.\n",
    "'''"
   ]
  },
  {
   "cell_type": "markdown",
   "metadata": {},
   "source": [
    "# Readibility Check"
   ]
  },
  {
   "cell_type": "code",
   "execution_count": 8,
   "metadata": {},
   "outputs": [],
   "source": [
    "import textstat\n",
    "grade_level = textstat.flesch_kincaid_grade(text)"
   ]
  },
  {
   "cell_type": "code",
   "execution_count": 9,
   "metadata": {},
   "outputs": [
    {
     "name": "stdout",
     "output_type": "stream",
     "text": [
      "Flesch-Kincaid Grade Level: 8.2\n"
     ]
    }
   ],
   "source": [
    "print(\"Flesch-Kincaid Grade Level:\", grade_level)"
   ]
  },
  {
   "cell_type": "markdown",
   "metadata": {},
   "source": [
    "# Badges Match Check"
   ]
  },
  {
   "cell_type": "code",
   "execution_count": null,
   "metadata": {},
   "outputs": [],
   "source": [
    "def badges_check()"
   ]
  }
 ],
 "metadata": {
  "kernelspec": {
   "display_name": "ece1786",
   "language": "python",
   "name": "python3"
  },
  "language_info": {
   "codemirror_mode": {
    "name": "ipython",
    "version": 3
   },
   "file_extension": ".py",
   "mimetype": "text/x-python",
   "name": "python",
   "nbconvert_exporter": "python",
   "pygments_lexer": "ipython3",
   "version": "3.10.14"
  }
 },
 "nbformat": 4,
 "nbformat_minor": 2
}
